{
 "cells": [
  {
   "cell_type": "code",
   "execution_count": 1,
   "id": "e9823570-f4e1-46a0-97b6-c0f4e68eaaa1",
   "metadata": {
    "ExecuteTime": {
     "end_time": "2023-12-27T12:30:18.392990Z",
     "start_time": "2023-12-27T12:30:17.451319Z"
    }
   },
   "outputs": [],
   "source": [
    "from netgen.meshing import *\n",
    "from ngsolve import *\n",
    "from netgen.meshing import Mesh as NGMesh\n",
    "from ngsolve.webgui import Draw\n",
    "from netgen.geom2d import SplineGeometry, unit_square\n",
    "import matplotlib.pyplot as plt\n",
    "import numpy as np\n",
    "import pickle\n",
    "# Bem. stiw: unnötig wird in Zeile 2 schon geladen\n",
    "#from ngsolve import CoefficientFunction\n",
    "from ngsolve.meshes import MakeStructured2DMesh\n",
    "import time"
   ]
  },
  {
   "cell_type": "markdown",
   "id": "e7bb9889-f06e-4841-b484-f8213296a7aa",
   "metadata": {},
   "source": [
    "Hier wird eine lineare Funktion verwendet, um alle Werte von -1.5 bis 1.5 drin zu haben."
   ]
  },
  {
   "cell_type": "code",
   "execution_count": 2,
   "id": "7e4717e7-0d2d-47af-a9f8-2a5c1b58e2dc",
   "metadata": {},
   "outputs": [],
   "source": [
    "def fun(x):\n",
    "    return -2+4*x\n",
    "\n",
    "# x nicht überschreiben, das ist unsere CF für die Koordinaten...\n",
    "xp = np.linspace(0,1,400)\n",
    "fun_x = fun(xp)"
   ]
  },
  {
   "cell_type": "code",
   "execution_count": 3,
   "id": "1c25c99d-0e7e-439b-b7d9-8f1d2bc7d12a",
   "metadata": {},
   "outputs": [
    {
     "data": {
      "image/png": "[encoded data removed]",
      "text/plain": [
       "<Figure size 640x480 with 1 Axes>"
      ]
     },
     "metadata": {},
     "output_type": "display_data"
    }
   ],
   "source": [
    "plt.plot(xp,fun_x)\n",
    "plt.show()"
   ]
  },
  {
   "cell_type": "code",
   "execution_count": 4,
   "id": "283aaa66-14bb-48b6-84c5-79c66468796c",
   "metadata": {},
   "outputs": [],
   "source": [
    "#print(fun_x)"
   ]
  },
  {
   "cell_type": "code",
   "execution_count": 5,
   "id": "031e8508-8418-4f0d-abd2-6e87afc5737f",
   "metadata": {},
   "outputs": [],
   "source": [
    "# generate a 1D mesh\n",
    "ngmesh = NGMesh()\n",
    "ngmesh.dim = 1\n",
    "\n",
    "# Bem. stiw: wir brauchen etwas mehr Elemente als nur eines\n",
    "nel = 100\n",
    "l0 = 2\n",
    "\n",
    "pnums = []\n",
    "for i in range(0, nel+1):\n",
    "    pnums.append (ngmesh.Add(MeshPoint (Pnt(i/nel*l0, 0, 0))))\n",
    "\n",
    "for i in range(0,nel):\n",
    "    ngmesh.Add (Element1D([pnums[i],pnums[i+1]], index=1))\n",
    "\n",
    "ngmesh.Add (Element0D(pnums[0], index=1))\n",
    "ngmesh.Add (Element0D(pnums[nel], index=2))\n",
    "\n",
    "mesh = Mesh(ngmesh)"
   ]
  },
  {
   "cell_type": "code",
   "execution_count": 6,
   "id": "5606c3aa-5696-4f99-865b-cf1bb787f224",
   "metadata": {},
   "outputs": [],
   "source": [
    "# Startwerte:\n",
    "t0 = 0\n",
    "dt0 = 0.1\n",
    "tend = 5\n",
    "eps0 = 1e-3\n",
    "d2t = 0.05  #Änderungsrate für dt\n",
    "\n",
    "# Initialisierung der Parameter\n",
    "t = Parameter (t0)\n",
    "dt = Parameter (dt0)\n",
    "eps = Parameter (eps0)"
   ]
  },
  {
   "cell_type": "code",
   "execution_count": 7,
   "id": "78ca0a57-0e4e-4b7a-8c30-f94236bc4c78",
   "metadata": {},
   "outputs": [],
   "source": [
    "order = 2\n",
    "# Bem. stiw: keine Dirichlet Randwerte\n",
    "V = H1(mesh, order=order)#, dirichlet=[1,2])\n",
    "u = V.TrialFunction()\n",
    "v = V.TestFunction()\n",
    "gfu = GridFunction(V)\n",
    "\n",
    "a = BilinearForm (V, symmetric = False)\n",
    "a += Variation((eps/2*grad(u)*grad(u) \n",
    "               +(u**2*(1-u*u)**2)\n",
    "               + 0.5/dt*(u-gfu)**2)*dx)\n",
    "\n",
    "# Interpolate the function onto the finite element space\n",
    "# Bem. stiw: hier können wir die Koordinaten CF benutzen\n",
    "u0 = GridFunction(V)\n",
    "u0.Set(-2+4*x)\n",
    "#oder\n",
    "u0.Set(fun(x))\n",
    "\n",
    "# Set the initial condition on the GridFunction\n",
    "gfu.Set(-2+4*x)"
   ]
  },
  {
   "cell_type": "code",
   "execution_count": 8,
   "id": "c2724f3f-3edd-42f2-8677-0d94199875d9",
   "metadata": {},
   "outputs": [
    {
     "name": "stdout",
     "output_type": "stream",
     "text": [
      "Newton iteration 0\n",
      "eps: 1e-05\n",
      "Seconds passed:  0.1\n",
      "ParameterCF, val = 0.2\n",
      "\n",
      "dt für nächste Iteration:  0.15000000000000002\n",
      "<A u 0 , A u 0 >_{-1}A0.S =  105.55193547108746\n",
      "gridfunction 'gfu' on space 'H1HighOrderFESpace(h1ho)'\n",
      "nested = 1\n",
      "autoupdate = 0\n",
      "\n",
      "Newton iteration 1\n",
      "eps: 1.0000000000000001e-07\n",
      "Seconds passed:  0.35000000000000003\n",
      "ParameterCF, val = 0.5\n",
      "\n",
      "dt für nächste Iteration:  0.2\n",
      "<A u 1 , A u 1 >_{-1}A0.S =  53.785237912599506\n",
      "gridfunction 'gfu' on space 'H1HighOrderFESpace(h1ho)'\n",
      "nested = 1\n",
      "autoupdate = 0\n",
      "\n",
      "Newton iteration 2\n",
      "eps: 1e-09\n",
      "Seconds passed:  0.7\n",
      "ParameterCF, val = 0.9\n",
      "\n",
      "dt für nächste Iteration:  0.25\n",
      "<A u 2 , A u 2 >_{-1}A0.S =  27.328469309449126\n",
      "gridfunction 'gfu' on space 'H1HighOrderFESpace(h1ho)'\n",
      "nested = 1\n",
      "autoupdate = 0\n",
      "\n",
      "Newton iteration 3\n",
      "eps: 1.0000000000000001e-11\n",
      "Seconds passed:  1.15\n",
      "ParameterCF, val = 1.4\n",
      "\n",
      "dt für nächste Iteration:  0.3\n",
      "<A u 3 , A u 3 >_{-1}A0.S =  13.822596719270534\n",
      "gridfunction 'gfu' on space 'H1HighOrderFESpace(h1ho)'\n",
      "nested = 1\n",
      "autoupdate = 0\n",
      "\n",
      "Newton iteration 4\n",
      "eps: 1.0000000000000002e-13\n",
      "Seconds passed:  1.7\n",
      "ParameterCF, val = 2\n",
      "\n",
      "dt für nächste Iteration:  0.35\n",
      "<A u 4 , A u 4 >_{-1}A0.S =  6.9399260361625545\n",
      "gridfunction 'gfu' on space 'H1HighOrderFESpace(h1ho)'\n",
      "nested = 1\n",
      "autoupdate = 0\n",
      "\n",
      "Newton iteration 5\n",
      "eps: 1.0000000000000003e-15\n",
      "Seconds passed:  2.35\n",
      "ParameterCF, val = 2.7\n",
      "\n",
      "dt für nächste Iteration:  0.39999999999999997\n",
      "<A u 5 , A u 5 >_{-1}A0.S =  3.4420290011428047\n",
      "gridfunction 'gfu' on space 'H1HighOrderFESpace(h1ho)'\n",
      "nested = 1\n",
      "autoupdate = 0\n",
      "\n",
      "Newton iteration 6\n",
      "eps: 1.0000000000000002e-17\n",
      "Seconds passed:  3.1\n",
      "ParameterCF, val = 3.5\n",
      "\n",
      "dt für nächste Iteration:  0.44999999999999996\n",
      "<A u 6 , A u 6 >_{-1}A0.S =  1.6721094249170874\n",
      "gridfunction 'gfu' on space 'H1HighOrderFESpace(h1ho)'\n",
      "nested = 1\n",
      "autoupdate = 0\n",
      "\n",
      "Newton iteration 7\n",
      "eps: 1.0000000000000002e-19\n",
      "Seconds passed:  3.95\n",
      "ParameterCF, val = 4.4\n",
      "\n",
      "dt für nächste Iteration:  0.49999999999999994\n",
      "<A u 7 , A u 7 >_{-1}A0.S =  0.783293071175339\n",
      "gridfunction 'gfu' on space 'H1HighOrderFESpace(h1ho)'\n",
      "nested = 1\n",
      "autoupdate = 0\n",
      "\n",
      "Newton iteration 8\n",
      "eps: 1.0000000000000003e-21\n",
      "Seconds passed:  4.9\n",
      "ParameterCF, val = 5.4\n"
     ]
    }
   ],
   "source": [
    "res = gfu.vec.CreateVector()\n",
    "du = gfu.vec.CreateVector()\n",
    "\n",
    "# Newton Verfahren:\n",
    "start_time = time.time()\n",
    "for it in range(20):\n",
    "    print(\"Newton iteration\", it)\n",
    "\n",
    "    # lösen des linearisierten Problems:\n",
    "    # F(u_n)\n",
    "    a.Apply (gfu.vec, res)\n",
    "\n",
    "    # F'(u_n)\n",
    "    a.AssembleLinearization(gfu.vec)\n",
    "\n",
    "    #du.vec.data = a.mat.Inverse(V.FreeDofs(), inverse=\"umfpack\") * res.vec\n",
    "    #du.vec.data= a * res\n",
    "    du.data = a.mat.Inverse(V.FreeDofs(), inverse=\"umfpack\") * res\n",
    "\n",
    "    # update gfu\n",
    "    # u_n+1 = u_n - du\n",
    "    gfu.vec.data -= du\n",
    "\n",
    "    # eps für nächsten Zeitschritt updaten\n",
    "    eps.Set(eps.Get() * 1e-2)\n",
    "    print(\"eps:\", eps.Get())\n",
    "\n",
    "    # Aktuelle Zeit updaten\n",
    "    t.Set(t.Get()+dt.Get())\n",
    "    print(\"Seconds passed: \", t.Get())\n",
    "\n",
    "    # Abbruchkriterium: nach 2 Sekunden (wie in Aufgabenstellung beschrieben)\n",
    "    t += dt.Get()\n",
    "    print(t)\n",
    "    if t >= tend:\n",
    "        break\n",
    "\n",
    "    # dt für nächsten Schritt updaten\n",
    "    dt.Set(dt.Get() + d2t)\n",
    "    print(\"dt für nächste Iteration: \", dt.Get())\n",
    "\n",
    "    # Abbruchkriterium: wenn es vor schon vor Ablauf der 2 Sekunden konvergiert\n",
    "    stopcritval = sqrt(abs(InnerProduct(du,res)))\n",
    "    print (\"<A u\",it,\", A u\",it,\">_{-1}A0.S = \", stopcritval)\n",
    "    print(gfu)\n",
    "    if stopcritval < 1e-13:\n",
    "        break\n",
    "\n",
    "end_time = time.time()\n",
    "time_to_compute = end_time - start_time"
   ]
  },
  {
   "cell_type": "code",
   "execution_count": 9,
   "id": "2169b233-f24d-4d88-8af6-4cf56652c6e6",
   "metadata": {},
   "outputs": [
    {
     "data": {
      "application/vnd.jupyter.widget-view+json": {
       "model_id": "a97120eaa23049969ab9fc8f20e34c1d",
       "version_major": 2,
       "version_minor": 0
      },
      "text/plain": [
       "WebGuiWidget(layout=Layout(height='50vh', width='100%'), value={'gui_settings': {}, 'ngsolve_version': '6.2.23…"
      ]
     },
     "metadata": {},
     "output_type": "display_data"
    },
    {
     "data": {
      "text/plain": [
       "BaseWebGuiScene"
      ]
     },
     "execution_count": 9,
     "metadata": {},
     "output_type": "execute_result"
    }
   ],
   "source": [
    "# Bem. stiw: bringt in 1d nichts.\n",
    "Draw(gfu)"
   ]
  },
  {
   "cell_type": "code",
   "execution_count": 10,
   "id": "76209089-c678-4286-ae2f-dce10571f9a8",
   "metadata": {},
   "outputs": [
    {
     "data": {
      "text/plain": [
       "[<matplotlib.lines.Line2D at 0x13d76b410>]"
      ]
     },
     "execution_count": 10,
     "metadata": {},
     "output_type": "execute_result"
    },
    {
     "data": {
      "image/png": "[encoded data removed]",
      "text/plain": [
       "<Figure size 640x480 with 1 Axes>"
      ]
     },
     "metadata": {},
     "output_type": "display_data"
    }
   ],
   "source": [
    "# Bem. stiw: Visualisierung\n",
    "plt.plot(xp,gfu(mesh(xp)).flatten())"
   ]
  },
  {
   "cell_type": "code",
   "execution_count": null,
   "id": "b3632874-d798-4288-838c-308bf0f5a993",
   "metadata": {},
   "outputs": [],
   "source": []
  },
  {
   "cell_type": "code",
   "execution_count": null,
   "id": "24f9f798-c543-497f-922b-cef977f1b7ac",
   "metadata": {},
   "outputs": [],
   "source": []
  }
 ],
 "metadata": {
  "kernelspec": {
   "display_name": "Python 3 (ipykernel)",
   "language": "python",
   "name": "python3"
  },
  "language_info": {
   "codemirror_mode": {
    "name": "ipython",
    "version": 3
   },
   "file_extension": ".py",
   "mimetype": "text/x-python",
   "name": "python",
   "nbconvert_exporter": "python",
   "pygments_lexer": "ipython3",
   "version": "3.11.4"
  }
 },
 "nbformat": 4,
 "nbformat_minor": 5
}
