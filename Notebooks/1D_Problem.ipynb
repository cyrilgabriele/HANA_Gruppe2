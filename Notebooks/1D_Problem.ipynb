{
 "cells": [
  {
   "cell_type": "code",
   "execution_count": 37,
   "id": "e9823570-f4e1-46a0-97b6-c0f4e68eaaa1",
   "metadata": {},
   "outputs": [],
   "source": [
    "from netgen.meshing import *\n",
    "from ngsolve import *\n",
    "from netgen.meshing import Mesh as NGMesh\n",
    "from ngsolve.webgui import Draw\n",
    "from netgen.geom2d import SplineGeometry, unit_square\n",
    "import matplotlib.pyplot as plt\n",
    "import numpy as np\n",
    "import pickle\n",
    "from ngsolve import CoefficientFunction\n",
    "from ngsolve.meshes import MakeStructured2DMesh\n",
    "import time"
   ]
  },
  {
   "cell_type": "markdown",
   "id": "e7bb9889-f06e-4841-b484-f8213296a7aa",
   "metadata": {},
   "source": [
    "Hier wird eine lineare Funktion verwendet, um alle Werte von -1.5 bis 1.5 drin zu haben."
   ]
  },
  {
   "cell_type": "code",
   "execution_count": 38,
   "id": "7e4717e7-0d2d-47af-a9f8-2a5c1b58e2dc",
   "metadata": {},
   "outputs": [],
   "source": [
    "def fun(x):\n",
    "    return x - 2\n",
    "\n",
    "x = np.linspace(0,2,100)\n",
    "fun_x = fun(x)"
   ]
  },
  {
   "cell_type": "code",
   "execution_count": 39,
   "id": "1c25c99d-0e7e-439b-b7d9-8f1d2bc7d12a",
   "metadata": {},
   "outputs": [
    {
     "data": {
      "image/png": "[encoded data removed]",
      "text/plain": [
       "<Figure size 640x480 with 1 Axes>"
      ]
     },
     "metadata": {},
     "output_type": "display_data"
    }
   ],
   "source": [
    "plt.plot(fun_x)\n",
    "plt.show()"
   ]
  },
  {
   "cell_type": "code",
   "execution_count": 40,
   "id": "283aaa66-14bb-48b6-84c5-79c66468796c",
   "metadata": {},
   "outputs": [],
   "source": [
    "#print(fun_x)"
   ]
  },
  {
   "cell_type": "code",
   "execution_count": 41,
   "id": "031e8508-8418-4f0d-abd2-6e87afc5737f",
   "metadata": {},
   "outputs": [],
   "source": [
    "# generate a 1D mesh\n",
    "ngmesh = NGMesh()\n",
    "ngmesh.dim = 1\n",
    "\n",
    "nel = 1\n",
    "l0 = 2\n",
    "\n",
    "pnums = []\n",
    "for i in range(0, nel+1):\n",
    "    pnums.append (ngmesh.Add(MeshPoint (Pnt(i/nel*l0, 0, 0))))\n",
    "\n",
    "for i in range(0,nel):\n",
    "    ngmesh.Add (Element1D([pnums[i],pnums[i+1]], index=1))\n",
    "\n",
    "ngmesh.Add (Element0D(pnums[0], index=1))\n",
    "ngmesh.Add (Element0D(pnums[nel], index=2))\n",
    "\n",
    "mesh = Mesh(ngmesh)"
   ]
  },
  {
   "cell_type": "code",
   "execution_count": 42,
   "id": "8320638c-6754-43e0-b052-270aed248666",
   "metadata": {},
   "outputs": [],
   "source": [
    "cf = VoxelCoefficient((0,0),(1,1),\n",
    "                         fun_x[np.arange(fun_x.shape[0]-1,-1,-1)])"
   ]
  },
  {
   "cell_type": "code",
   "execution_count": 43,
   "id": "922a74cb-1482-427c-be8a-2eeb4a465564",
   "metadata": {},
   "outputs": [
    {
     "data": {
      "application/vnd.jupyter.widget-view+json": {
       "model_id": "dab083fea9ef462e8ef4cb8233f8155e",
       "version_major": 2,
       "version_minor": 0
      },
      "text/plain": [
       "WebGuiWidget(layout=Layout(height='50vh', width='100%'), value={'gui_settings': {}, 'ngsolve_version': '6.2.23…"
      ]
     },
     "metadata": {},
     "output_type": "display_data"
    },
    {
     "data": {
      "text/plain": [
       "BaseWebGuiScene"
      ]
     },
     "execution_count": 43,
     "metadata": {},
     "output_type": "execute_result"
    }
   ],
   "source": [
    "Draw(cf,mesh,'cf')"
   ]
  },
  {
   "cell_type": "code",
   "execution_count": 44,
   "id": "5606c3aa-5696-4f99-865b-cf1bb787f224",
   "metadata": {},
   "outputs": [],
   "source": [
    "# Startwerte:\n",
    "t0 = 0\n",
    "dt0 = 0.1\n",
    "tend = 5\n",
    "eps0 = 1e-4\n",
    "d2t = 0.05  #Änderungsrate für dt\n",
    "\n",
    "# Initialisierung der Parameter\n",
    "t = Parameter (t0)\n",
    "dt = Parameter (dt0)\n",
    "eps = Parameter (eps0)"
   ]
  },
  {
   "cell_type": "code",
   "execution_count": 45,
   "id": "78ca0a57-0e4e-4b7a-8c30-f94236bc4c78",
   "metadata": {},
   "outputs": [
    {
     "ename": "TypeError",
     "evalue": "Set(): incompatible function arguments. The following argument types are supported:\n    1. (self: ngsolve.comp.GridFunction, coefficient: ngsolve.fem.CoefficientFunction, VOL_or_BND: ngsolve.comp.VorB = <VorB.VOL: 0>, definedon: object = <ngsolve.ngstd.DummyArgument>, dual: bool = False, use_simd: bool = True, mdcomp: int = 0, definedonelements: Optional[pyngcore.pyngcore.BitArray] = None, bonus_intorder: int = 0) -> None\n\nInvoked with: <ngsolve.comp.GridFunction object at 0x10fdc0cb0>, <function fun at 0x10fde9120>",
     "output_type": "error",
     "traceback": [
      "\u001b[0;31m---------------------------------------------------------------------------\u001b[0m",
      "\u001b[0;31mTypeError\u001b[0m                                 Traceback (most recent call last)",
      "Cell \u001b[0;32mIn[45], line 14\u001b[0m\n\u001b[1;32m     12\u001b[0m \u001b[38;5;66;03m# Interpolate the function onto the finite element space\u001b[39;00m\n\u001b[1;32m     13\u001b[0m u0 \u001b[38;5;241m=\u001b[39m GridFunction(V)\n\u001b[0;32m---> 14\u001b[0m \u001b[43mu0\u001b[49m\u001b[38;5;241;43m.\u001b[39;49m\u001b[43mSet\u001b[49m\u001b[43m(\u001b[49m\u001b[43mfun\u001b[49m\u001b[43m)\u001b[49m\n\u001b[1;32m     16\u001b[0m \u001b[38;5;66;03m# Set the initial condition on the GridFunction\u001b[39;00m\n\u001b[1;32m     17\u001b[0m gfu\u001b[38;5;241m.\u001b[39mSet(u0)\n",
      "\u001b[0;31mTypeError\u001b[0m: Set(): incompatible function arguments. The following argument types are supported:\n    1. (self: ngsolve.comp.GridFunction, coefficient: ngsolve.fem.CoefficientFunction, VOL_or_BND: ngsolve.comp.VorB = <VorB.VOL: 0>, definedon: object = <ngsolve.ngstd.DummyArgument>, dual: bool = False, use_simd: bool = True, mdcomp: int = 0, definedonelements: Optional[pyngcore.pyngcore.BitArray] = None, bonus_intorder: int = 0) -> None\n\nInvoked with: <ngsolve.comp.GridFunction object at 0x10fdc0cb0>, <function fun at 0x10fde9120>"
     ]
    }
   ],
   "source": [
    "order = 2\n",
    "V = H1(mesh, order=order, dirichlet=[1,2])\n",
    "u = V.TrialFunction()\n",
    "v = V.TestFunction()\n",
    "gfu = GridFunction(V)\n",
    "\n",
    "a = BilinearForm (V, symmetric = False)\n",
    "a += Variation((eps/2*grad(u)*grad(u) \n",
    "               +(u**2*(1-u*u)**2)\n",
    "               + 0.5/dt*(u-gfu)**2)*dx)\n",
    "\n",
    "# Interpolate the function onto the finite element space\n",
    "u0 = GridFunction(V)\n",
    "u0.Set(fun)\n",
    "\n",
    "# Set the initial condition on the GridFunction\n",
    "gfu.Set(u0)"
   ]
  },
  {
   "cell_type": "code",
   "execution_count": null,
   "id": "c2724f3f-3edd-42f2-8677-0d94199875d9",
   "metadata": {},
   "outputs": [],
   "source": [
    "res = gfu.vec.CreateVector()\n",
    "du = gfu.vec.CreateVector()\n",
    "\n",
    "# Newton Verfahren:\n",
    "start_time = time.time()\n",
    "for it in range(10000000):\n",
    "    print(\"Newton iteration\", it)\n",
    "\n",
    "    # lösen des linearisierten Problems:\n",
    "    # F(u_n)\n",
    "    a.Apply (gfu.vec, res)\n",
    "\n",
    "    # F'(u_n)\n",
    "    a.AssembleLinearization(gfu.vec)\n",
    "\n",
    "    #du.vec.data = a.mat.Inverse(V.FreeDofs(), inverse=\"umfpack\") * res.vec\n",
    "    #du.vec.data= a * res\n",
    "    du.data = a.mat.Inverse(V.FreeDofs(), inverse=\"masterinverse\") * res\n",
    "\n",
    "    # update gfu\n",
    "    # u_n+1 = u_n - du\n",
    "    gfu.vec.data -= du\n",
    "\n",
    "    # eps für nächsten Zeitschritt updaten\n",
    "    eps.Set(eps.Get() * 1e-2)\n",
    "    print(\"eps:\", eps.Get())\n",
    "\n",
    "    # Aktuelle Zeit updaten\n",
    "    t.Set(t.Get()+dt.Get())\n",
    "    print(\"Seconds passed: \", t.Get())\n",
    "\n",
    "    # Abbruchkriterium: nach 2 Sekunden (wie in Aufgabenstellung beschrieben)\n",
    "    t += dt.Get()\n",
    "    print(t)\n",
    "    if t >= tend:\n",
    "        break\n",
    "\n",
    "    # dt für nächsten Schritt updaten\n",
    "    dt.Set(dt.Get() + d2t)\n",
    "    print(\"dt für nächste Iteration: \", dt.Get())\n",
    "\n",
    "    # Abbruchkriterium: wenn es vor schon vor Ablauf der 2 Sekunden konvergiert\n",
    "    stopcritval = sqrt(abs(InnerProduct(du,res)))\n",
    "    print (\"<A u\",it,\", A u\",it,\">_{-1}A0.S = \", stopcritval)\n",
    "    print(gfu)\n",
    "    if stopcritval < 1e-13:\n",
    "        break\n",
    "\n",
    "end_time = time.time()\n",
    "time_to_compute = end_time - start_time"
   ]
  },
  {
   "cell_type": "code",
   "execution_count": null,
   "id": "2169b233-f24d-4d88-8af6-4cf56652c6e6",
   "metadata": {},
   "outputs": [],
   "source": [
    "Draw(gfu)"
   ]
  },
  {
   "cell_type": "code",
   "execution_count": null,
   "id": "94dd57d0-8b40-4fb4-a5e2-85569a1e888d",
   "metadata": {},
   "outputs": [],
   "source": [
    "def uexact(x):\n",
    "    return x-2"
   ]
  },
  {
   "cell_type": "code",
   "execution_count": null,
   "id": "4d919313-4bed-4737-bab5-b79df10be39f",
   "metadata": {},
   "outputs": [],
   "source": [
    "xi = np.linspace(0,2,100)\n",
    "ui = [gfu(xip) for xip in xi]\n",
    "\n",
    "plt.plot(xi,ui, label='FEM-Lösung')\n",
    "plt.plot(xi,uexact(xi),'--',label='analytische Lösung')\n",
    "plt.legend(loc=1)\n",
    "plt.grid()\n",
    "plt.show()"
   ]
  },
  {
   "cell_type": "code",
   "execution_count": null,
   "id": "b3632874-d798-4288-838c-308bf0f5a993",
   "metadata": {},
   "outputs": [],
   "source": []
  }
 ],
 "metadata": {
  "kernelspec": {
   "display_name": "myvenv",
   "language": "python",
   "name": "myvenv"
  },
  "language_info": {
   "codemirror_mode": {
    "name": "ipython",
    "version": 3
   },
   "file_extension": ".py",
   "mimetype": "text/x-python",
   "name": "python",
   "nbconvert_exporter": "python",
   "pygments_lexer": "ipython3",
   "version": "3.11.6"
  }
 },
 "nbformat": 4,
 "nbformat_minor": 5
}
