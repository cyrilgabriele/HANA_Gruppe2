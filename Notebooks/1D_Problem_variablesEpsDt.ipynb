{
 "cells": [
  {
   "cell_type": "code",
   "execution_count": 305,
   "id": "e9823570-f4e1-46a0-97b6-c0f4e68eaaa1",
   "metadata": {
    "ExecuteTime": {
     "end_time": "2023-12-29T08:36:59.653564Z",
     "start_time": "2023-12-29T08:36:58.838999Z"
    }
   },
   "outputs": [],
   "source": [
    "from netgen.meshing import *\n",
    "from ngsolve import *\n",
    "from netgen.meshing import Mesh as NGMesh\n",
    "from ngsolve.webgui import Draw\n",
    "from netgen.geom2d import SplineGeometry, unit_square\n",
    "import matplotlib.pyplot as plt\n",
    "import numpy as np\n",
    "import pickle\n",
    "# Bem. stiw: unnötig wird in Zeile 2 schon geladen\n",
    "#from ngsolve import CoefficientFunction\n",
    "from ngsolve.meshes import MakeStructured2DMesh\n",
    "import time"
   ]
  },
  {
   "cell_type": "markdown",
   "id": "e7bb9889-f06e-4841-b484-f8213296a7aa",
   "metadata": {},
   "source": [
    "Hier wird eine lineare Funktion verwendet, um alle Werte von -1.5 bis 1.5 drin zu haben."
   ]
  },
  {
   "cell_type": "code",
   "execution_count": 306,
   "id": "7e4717e7-0d2d-47af-a9f8-2a5c1b58e2dc",
   "metadata": {},
   "outputs": [],
   "source": [
    "def fun(x):\n",
    "    return -2+4*x\n",
    "\n",
    "# x nicht überschreiben, das ist unsere CF für die Koordinaten...\n",
    "xp = np.linspace(0,1,400)\n",
    "fun_x = fun(xp)"
   ]
  },
  {
   "cell_type": "code",
   "execution_count": 307,
   "id": "1c25c99d-0e7e-439b-b7d9-8f1d2bc7d12a",
   "metadata": {},
   "outputs": [
    {
     "data": {
      "image/png": "[encoded data removed]",
      "text/plain": [
       "<Figure size 640x480 with 1 Axes>"
      ]
     },
     "metadata": {},
     "output_type": "display_data"
    }
   ],
   "source": [
    "plt.plot(xp,fun_x)\n",
    "plt.show()"
   ]
  },
  {
   "cell_type": "code",
   "execution_count": 308,
   "id": "283aaa66-14bb-48b6-84c5-79c66468796c",
   "metadata": {},
   "outputs": [],
   "source": [
    "#print(fun_x)"
   ]
  },
  {
   "cell_type": "code",
   "execution_count": 309,
   "id": "031e8508-8418-4f0d-abd2-6e87afc5737f",
   "metadata": {},
   "outputs": [],
   "source": [
    "# generate a 1D mesh\n",
    "ngmesh = NGMesh()\n",
    "ngmesh.dim = 1\n",
    "\n",
    "# Bem. stiw: wir brauchen etwas mehr Elemente als nur eines\n",
    "nel = 200\n",
    "l0 = 2\n",
    "\n",
    "pnums = []\n",
    "for i in range(0, nel+1):\n",
    "    pnums.append (ngmesh.Add(MeshPoint (Pnt(i/nel*l0, 0, 0))))\n",
    "\n",
    "for i in range(0,nel):\n",
    "    ngmesh.Add (Element1D([pnums[i],pnums[i+1]], index=1))\n",
    "\n",
    "ngmesh.Add (Element0D(pnums[0], index=1))\n",
    "ngmesh.Add (Element0D(pnums[nel], index=2))\n",
    "\n",
    "mesh = Mesh(ngmesh)"
   ]
  },
  {
   "cell_type": "code",
   "execution_count": 310,
   "id": "5606c3aa-5696-4f99-865b-cf1bb787f224",
   "metadata": {},
   "outputs": [],
   "source": [
    "# Startwerte:\n",
    "t0 = 0\n",
    "dt0 = 2.5e-1\n",
    "tend = 2\n",
    "eps0 = 1e-6\n",
    "d2t = 0.05  #Änderungsrate für dt\n",
    "\n",
    "# Initialisierung der Parameter\n",
    "t = Parameter (t0)\n",
    "dt = Parameter (dt0)\n",
    "eps = Parameter (eps0)"
   ]
  },
  {
   "cell_type": "code",
   "execution_count": 311,
   "id": "78ca0a57-0e4e-4b7a-8c30-f94236bc4c78",
   "metadata": {},
   "outputs": [],
   "source": [
    "order = 2\n",
    "V = H1(mesh, order=order)\n",
    "\n",
    "u = V.TrialFunction()\n",
    "v = V.TestFunction()\n",
    "gfu = GridFunction(V)\n",
    "a = BilinearForm (V, symmetric = False)\n",
    "a += Variation((eps/2*grad(u)*grad(u) \n",
    "               +(u**2*(1-u*u)**2)\n",
    "               + 0.5/dt*(u-gfu)**2)*dx)\n",
    "\n",
    "# Interpolate the function onto the finite element space\n",
    "# Bem. stiw: hier können wir die Koordinaten CF benutzen\n",
    "u0 = GridFunction(V)\n",
    "u0.Set(-2+4*x)\n",
    "#oder\n",
    "u0.Set(fun(x))\n",
    "\n",
    "# Set the initial condition on the GridFunction\n",
    "gfu.Set(-2+4*x)\n",
    "\n",
    "res = gfu.vec.CreateVector()\n",
    "du = gfu.vec.CreateVector()"
   ]
  },
  {
   "cell_type": "code",
   "execution_count": 312,
   "id": "c2724f3f-3edd-42f2-8677-0d94199875d9",
   "metadata": {},
   "outputs": [
    {
     "name": "stdout",
     "output_type": "stream",
     "text": [
      "Newton iteration 0\n",
      "eps: 0.0\n",
      "Seconds passed:  0.25\n",
      "ParameterCF, val = 0.25\n",
      "\n",
      "dt für nächste Iteration:  0.3\n",
      "<A u 0 , A u 0 >_{-1}A0.S =  105.57103303217157\n",
      "gridfunction 'gfu' on space 'H1HighOrderFESpace(h1ho)'\n",
      "nested = 1\n",
      "autoupdate = 0\n",
      "\n",
      "Newton iteration 1\n",
      "eps: 2.4999999999999998e-06\n",
      "Seconds passed:  0.55\n",
      "ParameterCF, val = 0.55\n",
      "\n",
      "dt für nächste Iteration:  0.35\n",
      "<A u 1 , A u 1 >_{-1}A0.S =  53.78343431786922\n",
      "gridfunction 'gfu' on space 'H1HighOrderFESpace(h1ho)'\n",
      "nested = 1\n",
      "autoupdate = 0\n",
      "\n",
      "Newton iteration 2\n",
      "eps: 5.5e-06\n",
      "Seconds passed:  0.9\n",
      "ParameterCF, val = 0.9\n",
      "\n",
      "dt für nächste Iteration:  0.39999999999999997\n",
      "<A u 2 , A u 2 >_{-1}A0.S =  27.320874645162217\n",
      "gridfunction 'gfu' on space 'H1HighOrderFESpace(h1ho)'\n",
      "nested = 1\n",
      "autoupdate = 0\n",
      "\n",
      "Newton iteration 3\n",
      "eps: 9e-06\n",
      "Seconds passed:  1.3\n",
      "ParameterCF, val = 1.3\n",
      "\n",
      "dt für nächste Iteration:  0.44999999999999996\n",
      "<A u 3 , A u 3 >_{-1}A0.S =  13.813989055407758\n",
      "gridfunction 'gfu' on space 'H1HighOrderFESpace(h1ho)'\n",
      "nested = 1\n",
      "autoupdate = 0\n",
      "\n",
      "Newton iteration 4\n",
      "eps: 1.3e-05\n",
      "Seconds passed:  1.75\n",
      "ParameterCF, val = 1.75\n",
      "\n",
      "dt für nächste Iteration:  0.49999999999999994\n",
      "<A u 4 , A u 4 >_{-1}A0.S =  6.931831727697663\n",
      "gridfunction 'gfu' on space 'H1HighOrderFESpace(h1ho)'\n",
      "nested = 1\n",
      "autoupdate = 0\n",
      "\n",
      "Newton iteration 5\n",
      "eps: 1.75e-05\n",
      "Seconds passed:  2.25\n",
      "ParameterCF, val = 2.25\n",
      "\n"
     ]
    }
   ],
   "source": [
    "# Newton Verfahren:\n",
    "start_time = time.time()\n",
    "for it in range(20):\n",
    "    print(\"Newton iteration\", it)\n",
    "\n",
    "    # lösen des linearisierten Problems:\n",
    "    # F(u_n)\n",
    "    a.Apply (gfu.vec, res)\n",
    "\n",
    "    # F'(u_n)\n",
    "    a.AssembleLinearization(gfu.vec)\n",
    "\n",
    "    #du.vec.data = a.mat.Inverse(V.FreeDofs(), inverse=\"umfpack\") * res.vec\n",
    "    #du.vec.data= a * res\n",
    "    du.data = a.mat.Inverse(V.FreeDofs(), inverse=\"umfpack\") * res\n",
    "\n",
    "    # update gfu\n",
    "    # u_n+1 = u_n - du\n",
    "    gfu.vec.data -= du\n",
    "\n",
    "    # eps für nächsten Zeitschritt updaten\n",
    "    #eps.Set(eps.Get() * 1e1)\n",
    "    #if it > 4:\n",
    "    #    eps.Set(1e-8)\n",
    "    eps.Set(10*t.Get()*1e-6)\n",
    "    print(\"eps:\", eps.Get())\n",
    "\n",
    "    # Aktuelle Zeit updaten\n",
    "    t += dt.Get()\n",
    "    print(\"Seconds passed: \", t.Get())\n",
    "\n",
    "    # Abbruchkriterium: nach 2 Sekunden (wie in Aufgabenstellung beschrieben)\n",
    "    print(t)\n",
    "    if t >= tend:\n",
    "        break\n",
    "\n",
    "    # dt für nächsten Schritt updaten\n",
    "    dt.Set(dt.Get() + d2t)\n",
    "    print(\"dt für nächste Iteration: \", dt.Get())\n",
    "\n",
    "    # Abbruchkriterium: wenn es vor schon vor Ablauf der 2 Sekunden konvergiert\n",
    "    stopcritval = sqrt(abs(InnerProduct(du,res)))\n",
    "    print (\"<A u\",it,\", A u\",it,\">_{-1}A0.S = \", stopcritval)\n",
    "    print(gfu)\n",
    "    if stopcritval < 1e-13:\n",
    "        break\n",
    "end_time = time.time()\n",
    "time_to_compute = end_time - start_time\n",
    "\n"
   ]
  },
  {
   "cell_type": "code",
   "execution_count": 313,
   "id": "76209089-c678-4286-ae2f-dce10571f9a8",
   "metadata": {},
   "outputs": [
    {
     "data": {
      "image/png": "[encoded data removed]",
      "text/plain": [
       "<Figure size 640x480 with 1 Axes>"
      ]
     },
     "metadata": {},
     "output_type": "display_data"
    }
   ],
   "source": [
    "plt.plot(xp,gfu(mesh(xp)).flatten(), label=f'eps variabel')\n",
    "\n",
    "plt.legend()\n",
    "plt.show()"
   ]
  },
  {
   "cell_type": "code",
   "execution_count": null,
   "id": "b3632874-d798-4288-838c-308bf0f5a993",
   "metadata": {},
   "outputs": [],
   "source": []
  },
  {
   "cell_type": "code",
   "execution_count": null,
   "id": "24f9f798-c543-497f-922b-cef977f1b7ac",
   "metadata": {},
   "outputs": [],
   "source": []
  }
 ],
 "metadata": {
  "kernelspec": {
   "display_name": "myvenv",
   "language": "python",
   "name": "myvenv"
  },
  "language_info": {
   "codemirror_mode": {
    "name": "ipython",
    "version": 3
   },
   "file_extension": ".py",
   "mimetype": "text/x-python",
   "name": "python",
   "nbconvert_exporter": "python",
   "pygments_lexer": "ipython3",
   "version": "3.11.6"
  }
 },
 "nbformat": 4,
 "nbformat_minor": 5
}
