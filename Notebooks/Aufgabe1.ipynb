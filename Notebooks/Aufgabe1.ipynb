{
 "cells": [
  {
   "cell_type": "markdown",
   "source": [
    "**Aufgabe 1**\n",
    "*Berechnen Sie die erste und zweite Variation des Funktionals \\E**{IE} (3). Zeigen Sie, dass\n",
    "die erste Variation mit dem impliziten Euler-Verfahren übereinstimmt.*"
   ],
   "metadata": {
    "collapsed": false
   }
  },
  {
   "cell_type": "code",
   "execution_count": null,
   "metadata": {
    "collapsed": true
   },
   "outputs": [],
   "source": []
  }
 ],
 "metadata": {
  "kernelspec": {
   "display_name": "Python 3",
   "language": "python",
   "name": "python3"
  },
  "language_info": {
   "codemirror_mode": {
    "name": "ipython",
    "version": 2
   },
   "file_extension": ".py",
   "mimetype": "text/x-python",
   "name": "python",
   "nbconvert_exporter": "python",
   "pygments_lexer": "ipython2",
   "version": "2.7.6"
  }
 },
 "nbformat": 4,
 "nbformat_minor": 0
}
