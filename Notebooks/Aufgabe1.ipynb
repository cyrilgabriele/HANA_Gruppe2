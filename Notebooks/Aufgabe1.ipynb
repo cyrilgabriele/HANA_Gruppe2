{
 "cells": [
  {
   "cell_type": "markdown",
   "metadata": {
    "collapsed": false,
    "jupyter": {
     "outputs_hidden": false
    }
   },
   "source": [
    "**Aufgabe 1**\n",
    "*Berechnen Sie die erste und zweite Variation des Funktionals $E^{IE}$ (3).\n",
    "Zeigen Sie, dass die erste Variation mit dem impliziten Euler-Verfahren übereinstimmt.*"
   ]
  },
  {
   "cell_type": "markdown",
   "metadata": {
    "collapsed": false,
    "jupyter": {
     "outputs_hidden": false
    }
   },
   "source": [
    "*1. Variation (Gateuax Ableitung)*"
   ]
  },
  {
   "cell_type": "markdown",
   "metadata": {
    "collapsed": false,
    "jupyter": {
     "outputs_hidden": false
    }
   },
   "source": [
    "Das Funktional ist gegeben durch:\n",
    "$E^{IE}(u) = [ \\int_{\\Omega\\} \\epsilon\\/2|| \\,dx ]$"
   ]
  },
  {
   "cell_type": "code",
   "execution_count": 19,
   "metadata": {
    "collapsed": false,
    "jupyter": {
     "outputs_hidden": false
    }
   },
   "outputs": [],
   "source": [
    "from netgen.meshing import *\n",
    "from ngsolve import *\n",
    "from ngsolve.webgui import Draw\n",
    "from netgen.geom2d import SplineGeometry\n",
    "import matplotlib.pyplot as plt\n",
    "import numpy as np"
   ]
  },
  {
   "cell_type": "code",
   "execution_count": 20,
   "metadata": {},
   "outputs": [
    {
     "data": {
      "application/vnd.jupyter.widget-view+json": {
       "model_id": "cbe9cd2b0b69422183798f940609a1f5",
       "version_major": 2,
       "version_minor": 0
      },
      "text/plain": [
       "WebGuiWidget(layout=Layout(height='50vh', width='100%'), value={'gui_settings': {}, 'ngsolve_version': '6.2.23…"
      ]
     },
     "metadata": {},
     "output_type": "display_data"
    },
    {
     "data": {
      "text/plain": [
       "BaseWebGuiScene"
      ]
     },
     "execution_count": 20,
     "metadata": {},
     "output_type": "execute_result"
    }
   ],
   "source": [
    "mesh = Mesh(unit_square.GenerateMesh(maxh=0.1))\n",
    "Draw(mesh)"
   ]
  },
  {
   "cell_type": "code",
   "execution_count": 21,
   "metadata": {},
   "outputs": [],
   "source": [
    "def unitIntervallMesh(N=5):\n",
    "    m = NGMesh(dim=1)\n",
    " \n",
    "    # Punkte für die Zerlegung auf dem Intervall [0,1]\n",
    "    pnums = []\n",
    "    for i in range(0, N+1):\n",
    "        pnums.append (m.Add (MeshPoint (Pnt(i/N, 0, 0))))\n",
    " \n",
    "    # Jedes 1D-Element (Teilintervall) kann einem Material zugeordnet\n",
    "    # werden. In unserem Fall gibt es nur ein Material.\n",
    "    idx = m.AddRegion(\"material\", dim=1)\n",
    "    for i in range(0,N):\n",
    "        m.Add (Element1D ([pnums[i],pnums[i+1]], index=idx))\n",
    " \n",
    "    # Linkes und Rechtes Ende sind Randwertpunkte (0D-Elemente)\n",
    "    idx_left = m.AddRegion(\"left\", dim=0)\n",
    "    idx_right = m.AddRegion(\"right\", dim=0)\n",
    " \n",
    "    m.Add (Element0D (pnums[0], index=idx_left))\n",
    "    m.Add (Element0D (pnums[N], index=idx_right))\n",
    " \n",
    "    # Damit haben wir das Mesh definiert\n",
    "    mesh = Mesh(m)\n",
    "    return mesh"
   ]
  },
  {
   "cell_type": "code",
   "execution_count": 22,
   "metadata": {},
   "outputs": [],
   "source": [
    "# Geg:\n",
    "eps = 1e-6\n",
    "# dt = 2.5e-1\n",
    "dt = 1\n",
    "t0 = 0\n",
    "tend = 2\n",
    "t = t0"
   ]
  },
  {
   "cell_type": "code",
   "execution_count": 23,
   "metadata": {},
   "outputs": [],
   "source": [
    "# Annahme n = 5 für das Mesh\n",
    "# Mesh von Herrn Stingelin verwendet\n",
    "# FEM Raum => Annahme Order = 2\n",
    "V = H1(mesh, order=2)  \n",
    "\n",
    "# Trial Funktion\n",
    "u = V.TrialFunction()\n",
    "# Test Funktion \n",
    "v = V.TestFunction()\n",
    "\n",
    "gfuold = GridFunction(V)\n",
    "a = BilinearForm (V, symmetric=False)\n",
    "a += Variation((eps/2*grad(u)*grad(u) \n",
    "               +(u**2*(1-u*u)**2)\n",
    "               + 0.5/dt*(u-gfuold)**2)*dx)\n"
   ]
  },
  {
   "cell_type": "code",
   "execution_count": 24,
   "metadata": {},
   "outputs": [],
   "source": [
    "def plot(gfu):\n",
    "    xis = np.linspace(0,1,400)\n",
    "    uis = np.array([gfu(mesh(xi)) for xi in xis])\n",
    "    plt.plot(xis,uis,label='FEM Lösung')"
   ]
  },
  {
   "cell_type": "code",
   "execution_count": 25,
   "metadata": {},
   "outputs": [
    {
     "data": {
      "text/plain": [
       "'\\nf = LinearForm(V)\\nf += CoefficientFunction(x*exp(-x**2))*v*dx\\n\\na.Assemble()\\nf.Assemble()\\n\\nwhile t == tend:\\n    # Solve the variational problem\\n    a.Assemble()\\n    # nur wenn rechte Seite NICHT \"festgemacht\" ist!\\n    # f = LinearForm(V)\\n    f.Assemble()\\n    inv = a.mat.Inverse(V.FreeDofs())\\n\\n    gfu = GridFunction(V)\\n    gfu.vec.data = a.mat.Inverse(freedofs=V.FreeDofs())*f.vec\\n    # print(f\"this is vec.data: {gfu.vec.data}\")\\n\\n    plot(gfu)\\n\\n    # Update the solution at the previous time step\\n    gfuold.vec.data = gfu.vec\\n\\n    # Increment the time and continue the loop\\n    t += dt\\n\\n\\nplt.show()\\n'"
      ]
     },
     "execution_count": 25,
     "metadata": {},
     "output_type": "execute_result"
    }
   ],
   "source": [
    "'''\n",
    "f = LinearForm(V)\n",
    "f += CoefficientFunction(x*exp(-x**2))*v*dx\n",
    "\n",
    "a.Assemble()\n",
    "f.Assemble()\n",
    "\n",
    "while t == tend:\n",
    "    # Solve the variational problem\n",
    "    a.Assemble()\n",
    "    # nur wenn rechte Seite NICHT \"festgemacht\" ist!\n",
    "    # f = LinearForm(V)\n",
    "    f.Assemble()\n",
    "    inv = a.mat.Inverse(V.FreeDofs())\n",
    "\n",
    "    gfu = GridFunction(V)\n",
    "    gfu.vec.data = a.mat.Inverse(freedofs=V.FreeDofs())*f.vec\n",
    "    # print(f\"this is vec.data: {gfu.vec.data}\")\n",
    "\n",
    "    plot(gfu)\n",
    "\n",
    "    # Update the solution at the previous time step\n",
    "    gfuold.vec.data = gfu.vec\n",
    "\n",
    "    # Increment the time and continue the loop\n",
    "    t += dt\n",
    "\n",
    "\n",
    "plt.show()\n",
    "'''"
   ]
  },
  {
   "cell_type": "code",
   "execution_count": 26,
   "metadata": {},
   "outputs": [
    {
     "data": {
      "image/png": "[encoded data removed]",
      "text/plain": [
       "<Figure size 640x480 with 1 Axes>"
      ]
     },
     "metadata": {},
     "output_type": "display_data"
    }
   ],
   "source": [
    "f = LinearForm(V)\n",
    "f += CoefficientFunction(x*exp(-x**2))*v*dx\n",
    "\n",
    "a.Assemble()\n",
    "f.Assemble()\n",
    "\n",
    "\n",
    "# Solve the variational problem\n",
    "a.Assemble()\n",
    "# nur wenn rechte Seite NICHT \"festgemacht\" ist!\n",
    "# f = LinearForm(V)\n",
    "f.Assemble()\n",
    "inv = a.mat.Inverse(V.FreeDofs())\n",
    "\n",
    "gfu = GridFunction(V)\n",
    "gfu.vec.data = a.mat.Inverse(freedofs=V.FreeDofs())*f.vec\n",
    "# print(f\"this is vec.data: {gfu.vec.data}\")\n",
    "\n",
    "xis = np.linspace(0,1,400)\n",
    "uis = np.array([gfu(mesh(xi)) for xi in xis])\n",
    "plt.plot(xis,uis,label='FEM Lösung')\n",
    "plt.show()\n",
    "\n",
    "# Update the solution at the previous time step\n",
    "gfuold.vec.data = gfu.vec\n",
    "\n",
    "# Increment the time and continue the loop\n",
    "t += dt"
   ]
  },
  {
   "cell_type": "code",
   "execution_count": 27,
   "metadata": {},
   "outputs": [
    {
     "data": {
      "image/png": "[encoded data removed]",
      "text/plain": [
       "<Figure size 640x480 with 1 Axes>"
      ]
     },
     "metadata": {},
     "output_type": "display_data"
    }
   ],
   "source": [
    "# Solve the variational problem\n",
    "a.Assemble()\n",
    "# nur wenn rechte Seite NICHT \"festgemacht\" ist!\n",
    "# f = LinearForm(V)\n",
    "f.Assemble()\n",
    "inv = a.mat.Inverse(V.FreeDofs())\n",
    "\n",
    "gfu = GridFunction(V)\n",
    "gfu.vec.data = a.mat.Inverse(freedofs=V.FreeDofs())*f.vec\n",
    "# print(f\"this is vec.data: {gfu.vec.data}\")\n",
    "\n",
    "xis = np.linspace(0,1,400)\n",
    "uis = np.array([gfu(mesh(xi)) for xi in xis])\n",
    "plt.plot(xis,uis,label='FEM Lösung')\n",
    "plt.show()\n",
    "\n",
    "# Update the solution at the previous time step\n",
    "gfuold.vec.data = gfu.vec\n",
    "\n",
    "# Increment the time and continue the loop\n",
    "t += dt"
   ]
  }
 ],
 "metadata": {
  "kernelspec": {
   "display_name": "Python 3 (ipykernel)",
   "language": "python",
   "name": "python3"
  },
  "language_info": {
   "codemirror_mode": {
    "name": "ipython",
    "version": 3
   },
   "file_extension": ".py",
   "mimetype": "text/x-python",
   "name": "python",
   "nbconvert_exporter": "python",
   "pygments_lexer": "ipython3",
   "version": "3.12.0"
  }
 },
 "nbformat": 4,
 "nbformat_minor": 4
}
