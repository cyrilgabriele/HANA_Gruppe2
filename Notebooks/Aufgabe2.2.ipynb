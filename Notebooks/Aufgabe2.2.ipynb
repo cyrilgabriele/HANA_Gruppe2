{
 "cells": [
  {
   "cell_type": "markdown",
   "source": [
    "# In this notebook the purpose was to solve the task with the manually calculated 1. Variation of out given functional"
   ],
   "metadata": {
    "collapsed": false
   }
  }
 ],
 "metadata": {
  "kernelspec": {
   "display_name": "Python 3",
   "language": "python",
   "name": "python3"
  },
  "language_info": {
   "codemirror_mode": {
    "name": "ipython",
    "version": 2
   },
   "file_extension": ".py",
   "mimetype": "text/x-python",
   "name": "python",
   "nbconvert_exporter": "python",
   "pygments_lexer": "ipython2",
   "version": "2.7.6"
  }
 },
 "nbformat": 4,
 "nbformat_minor": 0
}
